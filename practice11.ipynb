{
 "cells": [
  {
   "cell_type": "code",
   "execution_count": 1,
   "id": "fbd3858c",
   "metadata": {},
   "outputs": [],
   "source": [
    "#autoencoder로 망가진 이미지 복원하기\n",
    "#잡음제거 오토인코더(denoising autoencoder)\n",
    "import torch\n",
    "import torchvision\n",
    "import torch.nn.functional as F\n",
    "from torch import nn,optim\n",
    "from torchvision import transforms,datasets"
   ]
  },
  {
   "cell_type": "code",
   "execution_count": 2,
   "id": "4ede9d71",
   "metadata": {},
   "outputs": [],
   "source": [
    "import matplotlib.pyplot as plt\n",
    "from mpl_toolkits.mplot3d import Axes3D\n",
    "from matplotlib import cm\n",
    "import numpy as np"
   ]
  },
  {
   "cell_type": "code",
   "execution_count": 3,
   "id": "e9902c51",
   "metadata": {},
   "outputs": [
    {
     "name": "stdout",
     "output_type": "stream",
     "text": [
      "using_device cpu\n"
     ]
    }
   ],
   "source": [
    "#hyper parameter \n",
    "EPOCH = 10 \n",
    "BATCH_SIZE = 64\n",
    "USE_CUDA = torch.cuda.is_available()\n",
    "DEVICE = torch.device('cuda' if USE_CUDA else 'cpu')\n",
    "print('using_device',DEVICE)"
   ]
  },
  {
   "cell_type": "code",
   "execution_count": 4,
   "id": "714b9a4b",
   "metadata": {},
   "outputs": [],
   "source": [
    "#Fmnist dataset loading\n",
    "trainset = datasets.FashionMNIST(\n",
    "    root= './.data/',\n",
    "    train = True,\n",
    "    download= True,\n",
    "    transform= transforms.ToTensor()\n",
    ")\n",
    "train_loader = torch.utils.data.DataLoader(\n",
    "    dataset = trainset,\n",
    "    batch_size = BATCH_SIZE,\n",
    "    shuffle = True,\n",
    "    num_workers = 2\n",
    ")"
   ]
  },
  {
   "cell_type": "code",
   "execution_count": 5,
   "id": "2f7040ec",
   "metadata": {},
   "outputs": [],
   "source": [
    "#autoencoder module define\n",
    "#오토인코더에는 encoder부분과 decoder부분이 있음 이를 nn.Sequential를 이용하여 묶어줄 것임\n",
    "#nn.Sequential는 여러 모듈을 하나로 묶을 수 있음, 코드를 간결하게 만들수있고 계층과 활성화함수를 정의해주면 순서대로 값을 전달해 처리함\n",
    "class Autoencoder(nn.Module):\n",
    "    def __init__(self):\n",
    "        super(Autoencoder,self).__init__()\n",
    "        self.encoder = nn.Sequential(\n",
    "            nn.Linear(28*28,128),\n",
    "            nn.ReLU(),\n",
    "            nn.Linear(128,64),\n",
    "            nn.ReLU(),\n",
    "            nn.Linear(64,12),\n",
    "            nn.ReLU(),\n",
    "            nn.Linear(12,3),#마지막 3차원에서 시각화할 수 있도록 feature를 3개만 남김\n",
    "        )\n",
    "        self.decoder = nn.Sequential(\n",
    "            nn.Linear(3,12),\n",
    "            nn.ReLU(),\n",
    "            nn.Linear(12,64),\n",
    "            nn.ReLU(),\n",
    "            nn.Linear(64,128),\n",
    "            nn.ReLU(),\n",
    "            nn.Linear(128,28*28),\n",
    "            nn.Sigmoid(),\n",
    "        )\n",
    "    def forward(self,x):\n",
    "        encoded = self.encoder(x)\n",
    "        decoded = self.decoder(encoded)\n",
    "        return encoded, decoded\n",
    "\n",
    "    "
   ]
  },
  {
   "cell_type": "code",
   "execution_count": 6,
   "id": "b29664d3",
   "metadata": {},
   "outputs": [],
   "source": [
    "autoencoder = Autoencoder().to(DEVICE)\n",
    "optimizer = torch.optim.Adam(autoencoder.parameters(),lr = 0.005)\n",
    "criterion = nn.MSELoss()"
   ]
  },
  {
   "cell_type": "code",
   "execution_count": 7,
   "id": "93795685",
   "metadata": {},
   "outputs": [],
   "source": [
    "#원본 이미지 시각화하기\n",
    "view_data = trainset.data[:5].view(-1,28*28)\n",
    "view_data = view_data.type(torch.FloatTensor)/255. # 255로 나누는 이유는 픽셀의 색상값이 0-255이고 0과 1 사이의 값으로 만들어야지\n",
    "#모델이 인식하기 때문이다."
   ]
  },
  {
   "cell_type": "code",
   "execution_count": 8,
   "id": "b284a40f",
   "metadata": {},
   "outputs": [],
   "source": [
    "############# add noise !\n",
    "#학습 시 모델에 들어갈 입력에 add_noise함수를 더해 이미지에 무작위 잡음을 더한다. 무작위 잡음은 torch.randn으로 만들고\n",
    "#입력에 이미지의 크기를 넣어서 이미지와 같은 크기의 잡음을 만들고 이미지와 더해주면 된다. \n",
    "# 잡음의 강도는 임의로 설정 가능 여기서는 0.2\n",
    "def add_noise(img):\n",
    "    noise = torch.randn(img.size())*0.2\n",
    "    noisy_img = img + noise\n",
    "    return noisy_img"
   ]
  },
  {
   "cell_type": "code",
   "execution_count": 9,
   "id": "4920fe29",
   "metadata": {},
   "outputs": [],
   "source": [
    "def train(autoencoder,train_loader):\n",
    "    autoencoder.train()\n",
    "    avg_loss = 0 #변화하는 오차를 확인하기 위하여 생성함\n",
    "    for step, (x,label) in enumerate(train_loader):\n",
    "        x = add_noise(x) # 입력에 노이즈 더하기\n",
    "        x = x.view(-1,28*28).to(DEVICE)\n",
    "        y = x.view(-1,28*28).to(DEVICE)\n",
    "        label = label.to(DEVICE)\n",
    "        \n",
    "        encoded, decoded = autoencoder(x)\n",
    "        \n",
    "        loss = criterion(decoded,y) \n",
    "        optimizer.zero_grad()#함수에 있을수도 있는 grad초기화\n",
    "        loss.backward()#backward 로 기울기를 구함\n",
    "        optimizer.step()#step으로 최적화 진행\n",
    "        avg_loss += loss.item()\n",
    "    return avg_loss / len(train_loader)"
   ]
  },
  {
   "cell_type": "code",
   "execution_count": 10,
   "id": "1672c2ef",
   "metadata": {},
   "outputs": [
    {
     "name": "stdout",
     "output_type": "stream",
     "text": [
      "epoch1,loss0.08880551965601409\n",
      "epoch2,loss0.06802989345496652\n",
      "epoch3,loss0.06505142871155413\n",
      "epoch4,loss0.06411484098320068\n",
      "epoch5,loss0.06350174564510774\n",
      "epoch6,loss0.06318728829513608\n",
      "epoch7,loss0.0628919660655865\n",
      "epoch8,loss0.06286992484540828\n",
      "epoch9,loss0.06255671988402221\n",
      "epoch10,loss0.06252246210649451\n"
     ]
    }
   ],
   "source": [
    "for epoch in range(1,EPOCH+1):\n",
    "    loss = train(autoencoder,train_loader)\n",
    "    print('epoch{},loss{}'.format(epoch,loss))"
   ]
  },
  {
   "cell_type": "code",
   "execution_count": 11,
   "id": "b2da2de6",
   "metadata": {},
   "outputs": [],
   "source": [
    "# 잡음 제거 시각화하기\n",
    "# 모델이 본 적 없는 테스트 이미지를 활용해 검증해보자\n",
    "testset = datasets.FashionMNIST(\n",
    "            root = './.data/',\n",
    "            train = False,\n",
    "            download = True,\n",
    "            transform = transforms.ToTensor())"
   ]
  },
  {
   "cell_type": "code",
   "execution_count": 12,
   "id": "9590adc2",
   "metadata": {},
   "outputs": [],
   "source": [
    "sample_data = testset.data[0].view(-1,28*28) # 테스트셋에서 첫번째 이미지를 가져와서 모델의 입력으로 사용\n",
    "sample_data = sample_data.type(torch.FloatTensor)/255.\n",
    "\n",
    "original_x = sample_data[0]\n",
    "noisy_x = add_noise(original_x).to(DEVICE)\n",
    "_,recovered_x = autoencoder(noisy_x) # _의 의미는 특정값을 무시하는 변수, 즉 사용하지 않으니까 쓰는 것"
   ]
  },
  {
   "cell_type": "code",
   "execution_count": 13,
   "id": "aeb03534",
   "metadata": {},
   "outputs": [
    {
     "data": {
      "image/png": "[encoded data removed]",
      "text/plain": [
       "<Figure size 1080x1080 with 3 Axes>"
      ]
     },
     "metadata": {
      "needs_background": "light"
     },
     "output_type": "display_data"
    }
   ],
   "source": [
    "f,a = plt.subplots(1,3,figsize = (15,15))\n",
    "original_img = np.reshape(original_x.to('cpu').data.numpy(),(28,28))\n",
    "noisy_img = np.reshape(noisy_x.to('cpu').data.numpy(),(28,28))\n",
    "recovered_img = np.reshape(recovered_x.to('cpu').data.numpy(),(28,28))\n",
    "\n",
    "#원본 사진\n",
    "a[0].set_title('original')\n",
    "a[0].imshow(original_img,cmap='gray')\n",
    "#오염\n",
    "a[1].set_title('noisy')\n",
    "a[1].imshow(noisy_img,cmap='gray')\n",
    "#복원\n",
    "a[2].set_title('recovered')\n",
    "a[2].imshow(recovered_img,cmap='gray')\n",
    "\n",
    "plt.show()"
   ]
  },
  {
   "cell_type": "code",
   "execution_count": null,
   "id": "15f98cc5",
   "metadata": {},
   "outputs": [],
   "source": [
    "#이를 통하여 오토인코더가 중요한 feature만 남기고 우선순위가 아닌 것을 제거하는 방식으로 이미지를 압축, 복원한다는 것을 배울 수 있다."
   ]
  }
 ],
 "metadata": {
  "kernelspec": {
   "display_name": "Python 3 (ipykernel)",
   "language": "python",
   "name": "python3"
  },
  "language_info": {
   "codemirror_mode": {
    "name": "ipython",
    "version": 3
   },
   "file_extension": ".py",
   "mimetype": "text/x-python",
   "name": "python",
   "nbconvert_exporter": "python",
   "pygments_lexer": "ipython3",
   "version": "3.9.7"
  }
 },
 "nbformat": 4,
 "nbformat_minor": 5
}
