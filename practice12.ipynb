{
 "cells": [
  {
   "cell_type": "code",
   "execution_count": 1,
   "id": "c788e298",
   "metadata": {},
   "outputs": [],
   "source": [
    "#순차적인 데이터를 처리하는 RNN\n",
    "#데이터의 순서가 주는 정보까지 인지해내는 새로운 신경망을 배워보자 !\n",
    "\n",
    "#현실의 배부분의 경험은 순차적임 (sequential)\n",
    "#시계열 데이터의 정보를 받아서 전체 내용을 학습할 수 있음\n",
    "#RNN은 시계열 데이터의 정보를 하나씩 입력 받을 때 마다 지금까지 입력된 벡터들을 종합해 은닉벡터를 만들어냄\n",
    "#IMDB를 사용하여 영화리뷰 5만건 긍정적인 리뷰인지 부정적인 리뷰인지 테스트해보기\n",
    "#토큰화 하여 입력된 정보를 각각의 벡터로 나타내준다. (word embedding)\n"
   ]
  },
  {
   "cell_type": "code",
   "execution_count": 2,
   "id": "9f78c678",
   "metadata": {},
   "outputs": [],
   "source": [
    "import torch\n",
    "import torch.nn as nn\n",
    "import random\n",
    "import matplotlib.pyplot as plt\n",
    "# torchtext 버전상의 문제로 rnn은 건너뛰고 seq2seq모델로 예제를 하고 rnn파트를 마무리지음\n",
    "# seq2seq 모델은 각자 다른 역할을 하는 두개의 rnn을 이어붙인 모델로 \n",
    "# 이해를 하는 part와 다른 언어로 적어나가는 part 두개로 구분되며 이를 인코더 디코더라고 한다\n",
    "# 인코더에서는 모든 단어를 입력 받아 문장의 뜻을 내포하는 하나의 고정크기 텐서를 만들어냄\n",
    "# 이 텐서는 원문의 뜻과 내용을 압축하고 있다고 하여 문맥벡터라고 한다.\n"
   ]
  },
  {
   "cell_type": "code",
   "execution_count": 3,
   "id": "1a127032",
   "metadata": {},
   "outputs": [],
   "source": [
    "#기존의 번역을 할 때는 문장을 번역하므로 토큰을 사용하지만, 이 예제에서는 단어를 번역할 것이므로 글자단위의 캐릭터 임베딩을 사용함\n",
    "# 데이터셋 속에 총 몇종류의 토큰이 있는지 정의해주는 변수 선언\n",
    "vocab_size = 256 # 총 아스키 코드 개수\n",
    "# 모델에 입력될 원문과 번역문을 아스키 코드의 배열로 정의하고 텐서로 바꿔준다\n",
    "x_ = list(map(ord,'hello'))#아스키 코드로 변환\n",
    "y_ = list(map(ord,'hola'))#아스키 코드로 변환\n",
    "x = torch.LongTensor(x_)\n",
    "y = torch.LongTensor(y_)"
   ]
  },
  {
   "cell_type": "code",
   "execution_count": 4,
   "id": "577f98a7",
   "metadata": {},
   "outputs": [],
   "source": [
    "#seq2seq 모델 클래스 정의\n",
    "class Seq2Seq(nn.Module):\n",
    "    def __init__(self, vocab_size, hidden_size):\n",
    "        super(Seq2Seq,self).__init__()\n",
    "        self.n_layers = 1\n",
    "        self.hidden_size = hidden_size\n",
    "        #다음 임베딩 함수를 정의해줌\n",
    "        self.embedding = nn.Embedding(vocab_size, hidden_size)\n",
    "        self.encoder = nn.GRU(hidden_size, hidden_size)\n",
    "        self.decoder = nn.GRU(hidden_size, hidden_size)\n",
    "        #마지막으로 디코더가 번역문의 다음 토큰을 예상해내는 작은 신경망 만들어줌\n",
    "        self.project = nn.Linear(hidden_size,vocab_size)\n",
    "        #이렇게 객체들을 선언하고 forward 함수 만들어주기\n",
    "    def forward(self, inputs, targets):\n",
    "        initial_state = self._init_state()# 첫번째 은닉벡터\n",
    "        embedding = self.embedding(inputs).unsqueeze(1)# encoder에 입력되는 원문을 구성하는 모든 문자들을 임베딩\n",
    "        #인코더에 입력시켜서 encoder state를 만든 다음 이 벡터를 디코더의 첫번째 은닉벡터인 decoder_state로 지정함\n",
    "        #디코더가 번역문의 첫 번째 토큰을 예상하려면 인코더의 문맥벡터와 문장 시작 토큰을 입력 데이터로 받아야함\n",
    "        #문장 시작 토큰은 실제로 문장에 나타나진 않지만 디코더가 정상적으로 작동할 수 있도록 인위적으로 넣은 토큰임\n",
    "        encoder_output, encoder_state = self.encoder(embedding,initial_state)\n",
    "        decoder_state = encoder_state\n",
    "        decoder_input = torch.LongTensor([0]) #문장 시작 토큰 아스키코드 0\n",
    "        outputs = []\n",
    "        for i in range(targets.size()[0]):\n",
    "            decoder_input = self.embedding(decoder_input).unsqueeze(1)\n",
    "            decoder_output , decoder_state = self.decoder(decoder_input,decoder_state)\n",
    "            #디코더의 결과값은 다시 디코더 모델에 입력됨\n",
    "            #디코더의 출력값이 신경망의 마지막 층인 softmax층을 거치면 번역문의 다음 예상 글자가 나옴\n",
    "            #이 예상 결과를 output에 넣어서 오차를 계산할때 쓸 예정\n",
    "            projection = self.project(decoder_output)\n",
    "            outputs.append(projection)\n",
    "            #데이터가 풍부하다면 디코더가 예측한 토큰을다음 반복에서 입력될 토큰으로 갱신해주는 것이 정석임\n",
    "            #하지만 학습이 아직 되지 않은 상태의 모델은 잘못된 예측을 할 가능성이 높음\n",
    "            #이럴때는 학습속도가 저하될 수 있으니 이를 예방하기 위해 티처포싱을 사용함(teacher forcing)\n",
    "            \n",
    "            #티처포싱은 디코더 학습 시 실제 번역문의 토큰을 디코더의 전 출력값대신 사용하여 학습을 가속화시킴 \n",
    "            #번역문의 i번째 토큰에 해당하는 값 targets[i]를 디코더의 입력값으로 사용함\n",
    "            #티처포싱을 이용한 디코더 입력 갱신 \n",
    "            decoder_input = torch.LongTensor([targets[i]])\n",
    "        outputs = torch.stack(outputs).squeeze()\n",
    "        return outputs\n",
    "    def _init_state(self,batch_size = 1):\n",
    "        weight = next(self.parameters()).data\n",
    "        return weight.new(self.n_layers,batch_size,self.hidden_size).zero_()\n",
    "    #모델 구형 종료\n",
    "    "
   ]
  },
  {
   "cell_type": "code",
   "execution_count": 8,
   "id": "95798d05",
   "metadata": {},
   "outputs": [
    {
     "name": "stdout",
     "output_type": "stream",
     "text": [
      "\n",
      " 반복: 0 오차: 5.6100239753723145\n",
      "['\\x0b', 'Ó', 'ÿ', 'Ï']\n",
      "\n",
      " 반복: 100 오차: 1.8516188859939575\n",
      "['o', 'o', 'l', 'a']\n",
      "\n",
      " 반복: 200 오차: 0.662935733795166\n",
      "['h', 'o', 'l', 'a']\n",
      "\n",
      " 반복: 300 오차: 0.42184799909591675\n",
      "['h', 'o', 'l', 'a']\n",
      "\n",
      " 반복: 400 오차: 0.2811207175254822\n",
      "['h', 'o', 'l', 'a']\n",
      "\n",
      " 반복: 500 오차: 0.1958523690700531\n",
      "['h', 'o', 'l', 'a']\n",
      "\n",
      " 반복: 600 오차: 0.14717136323451996\n",
      "['h', 'o', 'l', 'a']\n",
      "\n",
      " 반복: 700 오차: 0.1157865896821022\n",
      "['h', 'o', 'l', 'a']\n",
      "\n",
      " 반복: 800 오차: 0.0923457220196724\n",
      "['h', 'o', 'l', 'a']\n",
      "\n",
      " 반복: 900 오차: 0.06327039003372192\n",
      "['h', 'o', 'l', 'a']\n"
     ]
    },
    {
     "data": {
      "image/png": "[encoded data removed]",
      "text/plain": [
       "<Figure size 432x288 with 1 Axes>"
      ]
     },
     "metadata": {
      "needs_background": "light"
     },
     "output_type": "display_data"
    }
   ],
   "source": [
    "#다음으로 학습을 시작하기 전에 마지막으로 교차 엔트로피 오차를 구하는 crossentropyloss클래스와 최적화 알고리즘을 정의함\n",
    "seq2seq = Seq2Seq(vocab_size,16)\n",
    "criterion = nn.CrossEntropyLoss()\n",
    "optimizer = torch.optim.Adam(seq2seq.parameters(),lr=1e-3)\n",
    "#이제 1000번의 epoch에 걸쳐서 모델을 학습시킴\n",
    "log = []\n",
    "for i in range(1000):\n",
    "    prediction = seq2seq(x,y)\n",
    "    loss = criterion(prediction,y)\n",
    "    optimizer.zero_grad()\n",
    "    loss.backward()\n",
    "    optimizer.step()\n",
    "    loss_val = loss.data\n",
    "    log.append(loss_val)\n",
    "    if i % 100 == 0:\n",
    "        print(\"\\n 반복: %d 오차: %s\" % (i,loss_val.item()))\n",
    "        _,top1 = prediction.data.topk(1,1)\n",
    "        print([chr(c) for c in top1.squeeze().numpy().tolist()])\n",
    "\n",
    "plt.plot(log)\n",
    "plt.ylabel('cross entropy loss')\n",
    "plt.show()"
   ]
  },
  {
   "cell_type": "code",
   "execution_count": null,
   "id": "c0b93b75",
   "metadata": {},
   "outputs": [],
   "source": []
  }
 ],
 "metadata": {
  "kernelspec": {
   "display_name": "Python 3 (ipykernel)",
   "language": "python",
   "name": "python3"
  },
  "language_info": {
   "codemirror_mode": {
    "name": "ipython",
    "version": 3
   },
   "file_extension": ".py",
   "mimetype": "text/x-python",
   "name": "python",
   "nbconvert_exporter": "python",
   "pygments_lexer": "ipython3",
   "version": "3.9.12"
  }
 },
 "nbformat": 4,
 "nbformat_minor": 5
}
