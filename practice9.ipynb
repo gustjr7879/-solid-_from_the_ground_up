{
 "cells": [
  {
   "cell_type": "code",
   "execution_count": null,
   "id": "7ef20b6d",
   "metadata": {},
   "outputs": [],
   "source": [
    "#복잡한 데이터셋을 처리하기 위한 깊은 모델 구축해보기\n",
    "#ResNet\n",
    "#컨볼루션층의 출력에 전의 전 (2단계 전)계층에 쓰였던 입력을 더해줘서 특징이 유실되지않게함"
   ]
  }
 ],
 "metadata": {
  "kernelspec": {
   "display_name": "Python 3 (ipykernel)",
   "language": "python",
   "name": "python3"
  },
  "language_info": {
   "codemirror_mode": {
    "name": "ipython",
    "version": 3
   },
   "file_extension": ".py",
   "mimetype": "text/x-python",
   "name": "python",
   "nbconvert_exporter": "python",
   "pygments_lexer": "ipython3",
   "version": "3.9.12"
  }
 },
 "nbformat": 4,
 "nbformat_minor": 5
}
