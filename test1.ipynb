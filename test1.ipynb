{
 "cells": [
  {
   "cell_type": "code",
   "execution_count": 10,
   "id": "58d6b690",
   "metadata": {},
   "outputs": [],
   "source": [
    "import torch\n"
   ]
  },
  {
   "cell_type": "code",
   "execution_count": 11,
   "id": "df45fbba",
   "metadata": {},
   "outputs": [
    {
     "name": "stdout",
     "output_type": "stream",
     "text": [
      "tensor([[1, 2, 3],\n",
      "        [4, 5, 6],\n",
      "        [7, 8, 9]])\n"
     ]
    }
   ],
   "source": [
    "x = torch.tensor([[1,2,3],[4,5,6],[7,8,9]])\n",
    "print(x)# tensor에는 변수가 1개 들어가야 함, 또한 랭크 2의 2차원 행렬임을 알 수 있다 "
   ]
  },
  {
   "cell_type": "code",
   "execution_count": 12,
   "id": "f708dca2",
   "metadata": {},
   "outputs": [
    {
     "name": "stdout",
     "output_type": "stream",
     "text": [
      "size torch.Size([3, 3])\n",
      "shape torch.Size([3, 3])\n",
      "랭크(차원) 2\n"
     ]
    }
   ],
   "source": [
    "#텐서의 형태는 size()혹은 shape를 이용해서 확인할 수 있다. 단순히 랭크만 확인할 예정이라면 ndimension함수\n",
    "print('size', x.size())\n",
    "print('shape',x.shape)\n",
    "print('랭크(차원)',x.ndimension())"
   ]
  },
  {
   "cell_type": "code",
   "execution_count": 13,
   "id": "ac8cb7b0",
   "metadata": {},
   "outputs": [
    {
     "name": "stdout",
     "output_type": "stream",
     "text": [
      "tensor([[[1, 2, 3],\n",
      "         [4, 5, 6],\n",
      "         [7, 8, 9]]])\n",
      "size torch.Size([1, 3, 3])\n",
      "shape torch.Size([1, 3, 3])\n",
      "랭크(차원) 3\n"
     ]
    }
   ],
   "source": [
    "#unsqueeze(), squeeze(),view( )함수로 텐서의 랭크와 shape를 변경할 수 있다.\n",
    "x = torch.unsqueeze(x,0) #랭크 업\n",
    "print(x)\n",
    "print('size', x.size())\n",
    "print('shape',x.shape)\n",
    "print('랭크(차원)',x.ndimension())"
   ]
  },
  {
   "cell_type": "code",
   "execution_count": 14,
   "id": "3eea2e3e",
   "metadata": {},
   "outputs": [
    {
     "name": "stdout",
     "output_type": "stream",
     "text": [
      "tensor([[1, 2, 3],\n",
      "        [4, 5, 6],\n",
      "        [7, 8, 9]])\n",
      "size torch.Size([3, 3])\n",
      "shape torch.Size([3, 3])\n",
      "랭크(차원) 2\n"
     ]
    }
   ],
   "source": [
    "x = torch.squeeze(x) #랭크 다운\n",
    "print(x)\n",
    "print('size', x.size())\n",
    "print('shape',x.shape)\n",
    "print('랭크(차원)',x.ndimension())"
   ]
  },
  {
   "cell_type": "code",
   "execution_count": 15,
   "id": "1d71bc6c",
   "metadata": {},
   "outputs": [
    {
     "name": "stdout",
     "output_type": "stream",
     "text": [
      "tensor([1, 2, 3, 4, 5, 6, 7, 8, 9])\n",
      "size torch.Size([9])\n",
      "shape torch.Size([9])\n",
      "랭크(차원) 1\n"
     ]
    }
   ],
   "source": [
    "x = x.view(9) #9모양인 텐서로 변형시킴 (1차원), 랭크 다운 and shape변형\n",
    "print(x)\n",
    "print('size', x.size())\n",
    "print('shape',x.shape)\n",
    "print('랭크(차원)',x.ndimension())\n",
    "#이처럼 squeeze,unsqueeze,view함수는 텐서의 원소 수를 그대로 유지하면서 모양과 차원을 조절할 수 있다.\n",
    "#갯수를 변화시키지 못하는 점 ! 변화시켜는 부분이 보이면 에러가 발생한다."
   ]
  },
  {
   "cell_type": "code",
   "execution_count": null,
   "id": "63735b3c",
   "metadata": {},
   "outputs": [],
   "source": []
  }
 ],
 "metadata": {
  "kernelspec": {
   "display_name": "Python 3 (ipykernel)",
   "language": "python",
   "name": "python3"
  },
  "language_info": {
   "codemirror_mode": {
    "name": "ipython",
    "version": 3
   },
   "file_extension": ".py",
   "mimetype": "text/x-python",
   "name": "python",
   "nbconvert_exporter": "python",
   "pygments_lexer": "ipython3",
   "version": "3.7.13"
  }
 },
 "nbformat": 4,
 "nbformat_minor": 5
}
