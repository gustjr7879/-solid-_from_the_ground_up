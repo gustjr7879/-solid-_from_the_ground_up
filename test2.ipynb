{
 "cells": [
  {
   "cell_type": "code",
   "execution_count": 1,
   "id": "b5e5ea10",
   "metadata": {},
   "outputs": [
    {
     "name": "stdout",
     "output_type": "stream",
     "text": [
      "w size torch.Size([5, 3])\n",
      "x size torch.Size([3, 2])\n",
      "w tensor([[ 0.9959,  0.1306,  0.9271],\n",
      "        [ 0.5373, -0.9736,  0.9281],\n",
      "        [-0.2669,  0.8165,  2.2868],\n",
      "        [-1.5953, -0.3790,  0.4718],\n",
      "        [ 1.2886,  0.2029, -0.9086]])\n",
      "x tensor([[1., 2.],\n",
      "        [3., 4.],\n",
      "        [5., 6.]])\n"
     ]
    }
   ],
   "source": [
    "#행렬과 행렬곱 연산\n",
    "#높이를 행 너비를 열\n",
    "import torch\n",
    "\n",
    "w = torch.randn(5,3,dtype=torch.float)\n",
    "x = torch.tensor([[1.0,2.0],[3.0,4.0],[5.0,6.0]])\n",
    "\n",
    "print('w size',w.size())\n",
    "print('x size',x.size())\n",
    "print('w',w)\n",
    "print('x',x)"
   ]
  },
  {
   "cell_type": "code",
   "execution_count": 2,
   "id": "72e6472f",
   "metadata": {},
   "outputs": [
    {
     "name": "stdout",
     "output_type": "stream",
     "text": [
      "b size torch.Size([5, 2])\n",
      "b tensor([[-0.5124, -0.8696],\n",
      "        [ 0.4135,  0.2885],\n",
      "        [-0.5540, -0.0867],\n",
      "        [-0.0864,  0.3854],\n",
      "        [ 0.5905, -1.4462]])\n"
     ]
    }
   ],
   "source": [
    "b = torch.randn(5,2,dtype = torch.float)\n",
    "print('b size',b.size())\n",
    "print('b',b)"
   ]
  },
  {
   "cell_type": "code",
   "execution_count": 3,
   "id": "0d5b1dc7",
   "metadata": {},
   "outputs": [
    {
     "name": "stdout",
     "output_type": "stream",
     "text": [
      "wx size torch.Size([5, 2])\n",
      "wx tensor([[ 6.0233,  8.0769],\n",
      "        [ 2.2568,  2.7486],\n",
      "        [13.6167, 16.4531],\n",
      "        [-0.3734, -1.8759],\n",
      "        [-2.6458, -2.0630]])\n"
     ]
    }
   ],
   "source": [
    "#행렬곱은 torch.mm()을 사용해서 수행할 수 있다. 행렬곱시 a*b b*c => a*c 의 size가 나옴\n",
    "wx = torch.mm(w,x)\n",
    "print('wx size',wx.size())\n",
    "print('wx',wx)"
   ]
  },
  {
   "cell_type": "code",
   "execution_count": 4,
   "id": "e1db8486",
   "metadata": {},
   "outputs": [
    {
     "name": "stdout",
     "output_type": "stream",
     "text": [
      "result size torch.Size([5, 2])\n",
      "result tensor([[ 5.5109,  7.2074],\n",
      "        [ 2.6703,  3.0372],\n",
      "        [13.0626, 16.3664],\n",
      "        [-0.4598, -1.4905],\n",
      "        [-2.0554, -3.5092]])\n"
     ]
    }
   ],
   "source": [
    "result = wx + b\n",
    "print('result size',result.size())\n",
    "print('result',result)"
   ]
  },
  {
   "cell_type": "code",
   "execution_count": null,
   "id": "0942fa7e",
   "metadata": {},
   "outputs": [],
   "source": []
  }
 ],
 "metadata": {
  "kernelspec": {
   "display_name": "Python 3 (ipykernel)",
   "language": "python",
   "name": "python3"
  },
  "language_info": {
   "codemirror_mode": {
    "name": "ipython",
    "version": 3
   },
   "file_extension": ".py",
   "mimetype": "text/x-python",
   "name": "python",
   "nbconvert_exporter": "python",
   "pygments_lexer": "ipython3",
   "version": "3.7.13"
  }
 },
 "nbformat": 4,
 "nbformat_minor": 5
}
