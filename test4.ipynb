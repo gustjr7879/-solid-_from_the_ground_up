{
 "cells": [
  {
   "cell_type": "code",
   "execution_count": 1,
   "id": "c7f79b4e",
   "metadata": {},
   "outputs": [],
   "source": [
    "import torch\n",
    "#앞선 노드들에서의 정보가 들어올 때 layer에 존재하는 가중치에 행렬곱을 시키고 편향을 더해주는 작업을 통해서 정밀하게 만들 수 있음\n",
    "# 이러한 결과는 활성화함수 (activation function)을 통해서 결과값 출력함\n",
    "# 이 프로젝트에서는 지도학습, 그중에서도 분류를 하는 간단한 인공지능을 만들어본다\n",
    "import numpy as np\n",
    "import matplotlib.pyplot as plt\n",
    "from sklearn.datasets import make_blobs\n",
    "import torch.nn.functional as F"
   ]
  },
  {
   "cell_type": "code",
   "execution_count": 2,
   "id": "7898b6b3",
   "metadata": {},
   "outputs": [],
   "source": [
    "# make dataset \n",
    "# train using in training \n",
    "# test using in validation\n",
    "\n",
    "n_dim = 2\n",
    "x_train,y_train = make_blobs(n_samples = 80, n_features=n_dim,centers=[[1,1],[-1,-1],[1,-1],[-1,1]],shuffle = True, cluster_std = 0.3)\n",
    "\n",
    "x_test,y_test = make_blobs(n_samples = 20, n_features=n_dim,centers=[[1,1],[-1,-1],[1,-1],[-1,1]],shuffle = True, cluster_std = 0.3)\n",
    "\n",
    "#사이킷런의 make_blobs함수를 이용해서 데이터를 2차ㅝㄴ 벡터 형태로 만들고 트레이닝엔 80, 테스팅엔 20개를 넣음 \n",
    "#여기서 만들어진 레이블데이터는 각 데이터 한 점 한 점이 몇번째 클러스터에 속해있는지 알려주는 인덱스임\n",
    "# 이 예제에서는 4개의 클러스터를 만들어냈다.\n"
   ]
  },
  {
   "cell_type": "code",
   "execution_count": 3,
   "id": "6c711925",
   "metadata": {},
   "outputs": [],
   "source": [
    "# 학습시킬 신경망 모델은 두가지 레이블만 예측하는 기본적인 모델이기 때문에 4개의 레이블을 2개로 합치는 과정을 만들어야함\n",
    "def label_map(y_,from_,to_):\n",
    "    y = np.copy(y_)\n",
    "    for f in from_:\n",
    "        y[y_==f] = to_\n",
    "    return y\n",
    "\n",
    "y_train = label_map(y_train,[0,1],0)\n",
    "y_train = label_map(y_train,[2,3],1)\n",
    "y_test = label_map(y_test,[0,1],0)\n",
    "y_test = label_map(y_test,[2,3],0)\n"
   ]
  },
  {
   "cell_type": "code",
   "execution_count": 4,
   "id": "ca2fe19d",
   "metadata": {},
   "outputs": [
    {
     "data": {
      "image/png": "[encoded data removed]",
      "text/plain": [
       "<Figure size 432x288 with 1 Axes>"
      ]
     },
     "metadata": {
      "needs_background": "light"
     },
     "output_type": "display_data"
    }
   ],
   "source": [
    "#데이터가 제대로 레이블링 되었는지 맷플롯립으로 확인\n",
    "def vis_data(x,y=None,c='r'):\n",
    "    if y is None:\n",
    "        y = [None]*len(x)\n",
    "    for x_,y_ in zip(x,y):\n",
    "        if y_ is None:# 만약에 레이블이 map안되어있다면?\n",
    "            plt.plot(x_[0],x_[1],'*',markerfacecolor='none',markeredgecolor=c)\n",
    "        else:#일반적인 경우\n",
    "            plt.plot(x_[0],x_[1],c+'o' if y_ == 0 else c+'+')\n",
    "plt.figure()\n",
    "vis_data(x_train,y_train,c='r')\n",
    "plt.show()"
   ]
  },
  {
   "cell_type": "code",
   "execution_count": 5,
   "id": "614cd0ab",
   "metadata": {},
   "outputs": [],
   "source": [
    "#생성한 넘파이 벡터 형식 데이터를 파이토치 텐서로 변경해줌\n",
    "\n",
    "x_train = torch.FloatTensor(x_train)\n",
    "x_test = torch.FloatTensor(x_test)\n",
    "y_train = torch.FloatTensor(y_train)\n",
    "y_test = torch.FloatTensor(y_test)"
   ]
  },
  {
   "cell_type": "code",
   "execution_count": 6,
   "id": "fefb0453",
   "metadata": {},
   "outputs": [],
   "source": [
    "#신경망 모델 구현하기\n",
    "#파이토치에서 신경망을 보통 torch.nn.Module을 상속받는 파이썬 클래스로 정의함\n",
    "#이렇게 상속받으면 파이토치 프레임워크에 있는 도구들을 사용가능함\n",
    "\n",
    "class NeuralNet(torch.nn.Module):\n",
    "    #신경망의 구조와 동작을 정의하는 생성자를 클래스에 정의함\n",
    "    #이 함수는 파이썬에서 객체가 갖는 속성값을 초기화하는 역할로 객체가 생성될때 자동으로 호출\n",
    "    #super()함수를 부르면 만든 NeuralNet클래스는 파이토치의 nn.Module 클래스의 속성들을 가지고 초기화된다.\n",
    "    def __init__(self,input_size,hidden_size):\n",
    "        super(NeuralNet,self).__init__()\n",
    "        # size는 입력 데이터 차원\n",
    "        self.input_size = input_size\n",
    "        self.hidden_size = hidden_size\n",
    "        #입력된 데이터가 인공신경망을 통과하면서 거치는 연산 정의\n",
    "        self.linear_1 = torch.nn.Linear(self.input_size,self.hidden_size) # 가중치와 편향이 들어가있는 연산과정\n",
    "        self.relu = torch.nn.ReLU() # 활성화함수\n",
    "        self.linear_2 = torch.nn.Linear(self.hidden_size,1) # 가중치와 편향이 들어가있는 연산과정\n",
    "        self.sigmoid = torch.nn.Sigmoid() # 활성화함수\n",
    "        \n",
    "    def forward(self,input_tensor):\n",
    "        linear1 = self.linear_1(input_tensor)\n",
    "        relu = self.relu(linear1)\n",
    "        linear2 = self.linear_2(relu)\n",
    "        output = self.sigmoid(linear2)\n",
    "        return output"
   ]
  },
  {
   "cell_type": "code",
   "execution_count": 7,
   "id": "5e894f51",
   "metadata": {},
   "outputs": [],
   "source": [
    "# 신경망 객체를 생성하고 학습에 필요한 여러 변수와 알고리즘을 정의함\n",
    "model = NeuralNet(2,5) # input size 2 hidden size 5\n",
    "learning_rate = 0.03\n",
    "criterion = torch.nn.BCELoss()#BCELoss is binary cross entropy\n",
    "epochs = 2000\n",
    "optimizer = torch.optim.SGD(model.parameters(),lr = learning_rate) # optimizer는 step함수를 부를때마다 가중치를 학습률만큼 갱신함\n",
    "#따라서 model.parameters를 함수로 추출한 모델 내부의 가중치와 학습률을 입력함\n"
   ]
  },
  {
   "cell_type": "code",
   "execution_count": 8,
   "id": "3e5bdbba",
   "metadata": {},
   "outputs": [
    {
     "name": "stdout",
     "output_type": "stream",
     "text": [
      "before training, test loss is 0.84453946352005\n"
     ]
    }
   ],
   "source": [
    "model.eval()\n",
    "test_loss_before = criterion(model(x_test).squeeze(),y_test) # 모델의 결과값과 레이블값의 차원을 맞춰주기 위해서 squeeze함수를 사용함\n",
    "print('before training, test loss is {}'.format(test_loss_before.item()))# item함수는 텐서 속의 숫자를 스칼라 값으로 반환함\n"
   ]
  },
  {
   "cell_type": "code",
   "execution_count": 13,
   "id": "5f971516",
   "metadata": {},
   "outputs": [
    {
     "name": "stdout",
     "output_type": "stream",
     "text": [
      "train loss at 0 is 0.3518521785736084)\n",
      "train loss at 100 is 0.35174697637557983)\n",
      "train loss at 200 is 0.35164719820022583)\n",
      "train loss at 300 is 0.35154736042022705)\n",
      "train loss at 400 is 0.35145407915115356)\n",
      "train loss at 500 is 0.35136356949806213)\n",
      "train loss at 600 is 0.351278692483902)\n",
      "train loss at 700 is 0.35119205713272095)\n",
      "train loss at 800 is 0.3511105477809906)\n",
      "train loss at 900 is 0.351034015417099)\n",
      "train loss at 1000 is 0.35095494985580444)\n",
      "train loss at 1100 is 0.35088247060775757)\n",
      "train loss at 1200 is 0.35081300139427185)\n",
      "train loss at 1300 is 0.3507414162158966)\n",
      "train loss at 1400 is 0.35067620873451233)\n",
      "train loss at 1500 is 0.35061103105545044)\n",
      "train loss at 1600 is 0.3505462408065796)\n",
      "train loss at 1700 is 0.35048750042915344)\n",
      "train loss at 1800 is 0.35042789578437805)\n",
      "train loss at 1900 is 0.3503722548484802)\n"
     ]
    }
   ],
   "source": [
    "for epoch in range(epochs):\n",
    "    model.train()\n",
    "    optimizer.zero_grad() # epoch마다 새로운 경사값을 계산할 것이므로 zerograd 함수를 호출해 경사값을 0으로 만들어줌\n",
    "    train_output = model(x_train)\n",
    "    train_loss = criterion(train_output.squeeze(),y_train)\n",
    "    if epoch % 100 ==0: #100번마다\n",
    "        print('train loss at {} is {})'.format(epoch,train_loss.item()))\n",
    "        \n",
    "    #오차 함수를 가중치로 미분하여 오차가 최소가 되는 방향을 구하고 그 방향으로 모델을 학습률만큼 이동시킴, 다음 두줄이 핵심 코드\n",
    "    train_loss.backward()\n",
    "    optimizer.step()\n"
   ]
  },
  {
   "cell_type": "code",
   "execution_count": 17,
   "id": "f44bded8",
   "metadata": {},
   "outputs": [
    {
     "name": "stdout",
     "output_type": "stream",
     "text": [
      "2.2000880241394043\n"
     ]
    }
   ],
   "source": [
    "test_loss = criterion(torch.squeeze(model(x_test)),y_test)\n",
    "print(test_loss.item())"
   ]
  },
  {
   "cell_type": "code",
   "execution_count": 18,
   "id": "f552db60",
   "metadata": {},
   "outputs": [
    {
     "name": "stdout",
     "output_type": "stream",
     "text": [
      "state_dict format of the model : OrderedDict([('linear_1.weight', tensor([[-0.0476, -0.4048],\n",
      "        [-2.3075, -1.4825],\n",
      "        [-2.4248,  1.2868],\n",
      "        [-0.0027,  0.0152],\n",
      "        [-0.9331,  0.4636]])), ('linear_1.bias', tensor([-0.6885, -0.7902, -1.0859, -0.2919, -0.3830])), ('linear_2.weight', tensor([[ 0.4237, -2.7409,  2.8755,  0.0171,  0.8104]])), ('linear_2.bias', tensor([-0.0020]))])\n"
     ]
    }
   ],
   "source": [
    "# 학습된 모델을 state_dict함수 형태로 바꿔주고 .pt파일로 저장\n",
    "# state_dict 함수는 모델 내 가중치들이 딕셔너리 형태로 {연산 이름 : 가중치텐서, 편향텐서}와 같이 표현된 데이터\n",
    "torch.save(model.state_dict(),'./model.pt')\n",
    "print('state_dict format of the model : {}'.format(model.state_dict()))"
   ]
  },
  {
   "cell_type": "code",
   "execution_count": 21,
   "id": "d0010487",
   "metadata": {},
   "outputs": [
    {
     "data": {
      "text/plain": [
       "<All keys matched successfully>"
      ]
     },
     "execution_count": 21,
     "metadata": {},
     "output_type": "execute_result"
    }
   ],
   "source": [
    "# 이렇게 저장한 파일을 나중에 불러와서 새로운 신경망 객체에 이미 학습된 모델의 가중치를 곧바로 적용할 수 있다.\n",
    "# 새로운 모델인 new_model을 생성하고 앞서 학습한 모델의 가중치를 입력해보자\n",
    "\n",
    "new_model = NeuralNet(2,5)\n",
    "new_model.load_state_dict(torch.load('./model.pt'))"
   ]
  },
  {
   "cell_type": "code",
   "execution_count": 22,
   "id": "646d5355",
   "metadata": {},
   "outputs": [
    {
     "name": "stdout",
     "output_type": "stream",
     "text": [
      "벡터 [-1, 1]이 레이블 1을 가질 확률은0.9997451901435852\n"
     ]
    }
   ],
   "source": [
    "new_model.eval()\n",
    "print('벡터 [-1, 1]이 레이블 1을 가질 확률은{}'.format(new_model(torch.FloatTensor([-1,1])).item()))"
   ]
  },
  {
   "cell_type": "code",
   "execution_count": null,
   "id": "72f241c1",
   "metadata": {},
   "outputs": [],
   "source": []
  }
 ],
 "metadata": {
  "kernelspec": {
   "display_name": "Python 3 (ipykernel)",
   "language": "python",
   "name": "python3"
  },
  "language_info": {
   "codemirror_mode": {
    "name": "ipython",
    "version": 3
   },
   "file_extension": ".py",
   "mimetype": "text/x-python",
   "name": "python",
   "nbconvert_exporter": "python",
   "pygments_lexer": "ipython3",
   "version": "3.7.13"
  }
 },
 "nbformat": 4,
 "nbformat_minor": 5
}
